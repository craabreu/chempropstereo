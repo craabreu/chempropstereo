{
 "cells": [
  {
   "cell_type": "code",
   "execution_count": 76,
   "metadata": {},
   "outputs": [],
   "source": [
    "import pathlib\n",
    "import sys\n",
    "\n",
    "import pandas as pd\n",
    "\n",
    "import chemprop\n",
    "import chempropstereo\n",
    "\n",
    "from chemprop import data, models, nn\n",
    "from lightning import pytorch as pl\n",
    "import torch"
   ]
  },
  {
   "cell_type": "code",
   "execution_count": 77,
   "metadata": {},
   "outputs": [],
   "source": [
    "choice = 2\n",
    "run = 0\n",
    "mode = \"V2\"\n",
    "\n",
    "match choice:\n",
    "    case 0:\n",
    "        case = \"chemprop\"\n",
    "        featurizer = chemprop.featurizers.SimpleMoleculeMolGraphFeaturizer(\n",
    "            atom_featurizer=chemprop.featurizers.get_multi_hot_atom_featurizer(\n",
    "                mode=mode\n",
    "            )\n",
    "        )\n",
    "    case 1:\n",
    "        case = \"chempropstereo_diverge\"\n",
    "        featurizer = chempropstereo.featurizers.MoleculeStereoFeaturizer(\n",
    "            mode=mode, divergent_bonds=True\n",
    "        )\n",
    "    case 2:\n",
    "        case = \"chempropstereo_converge\"\n",
    "        featurizer = chempropstereo.featurizers.MoleculeStereoFeaturizer(\n",
    "            mode=mode, divergent_bonds=False\n",
    "        )"
   ]
  },
  {
   "cell_type": "markdown",
   "metadata": {},
   "source": [
    "### Directories"
   ]
  },
  {
   "cell_type": "code",
   "execution_count": 78,
   "metadata": {},
   "outputs": [],
   "source": [
    "cwd = pathlib.Path.cwd()\n",
    "dataset_dir = cwd"
   ]
  },
  {
   "cell_type": "markdown",
   "metadata": {},
   "source": [
    "### Parameters"
   ]
  },
  {
   "cell_type": "code",
   "execution_count": 79,
   "metadata": {},
   "outputs": [],
   "source": [
    "num_workers = 8"
   ]
  },
  {
   "cell_type": "markdown",
   "metadata": {},
   "source": [
    "## Prepare Data"
   ]
  },
  {
   "cell_type": "code",
   "execution_count": 80,
   "metadata": {},
   "outputs": [],
   "source": [
    "input_path = dataset_dir / \"ld_classification_dataset.csv.gz\""
   ]
  },
  {
   "cell_type": "markdown",
   "metadata": {},
   "source": [
    "### Load data"
   ]
  },
  {
   "cell_type": "code",
   "execution_count": null,
   "metadata": {},
   "outputs": [],
   "source": [
    "df_input = pd.read_csv(input_path, compression=\"gzip\")\n",
    "df_input"
   ]
  },
  {
   "cell_type": "markdown",
   "metadata": {},
   "source": [
    "### Get molecule datapoints"
   ]
  },
  {
   "cell_type": "code",
   "execution_count": 82,
   "metadata": {},
   "outputs": [],
   "source": [
    "all_data = list(\n",
    "    map(\n",
    "        data.MoleculeDatapoint.from_smi,\n",
    "        df_input.loc[:, \"smiles\"].values,\n",
    "        df_input.loc[:, [\"sign_rotation\"]].values,\n",
    "    )\n",
    ")"
   ]
  },
  {
   "cell_type": "markdown",
   "metadata": {},
   "source": [
    "### Perform data splitting for training, validation, and testing"
   ]
  },
  {
   "cell_type": "code",
   "execution_count": null,
   "metadata": {},
   "outputs": [],
   "source": [
    "train_indices, val_indices, test_indices = (\n",
    "    [df_input[df_input[f\"split_{run}\"] == split].index.to_list()]\n",
    "    for split in [\"train\", \"val\", \"test\"]\n",
    ")\n",
    "\n",
    "# mols = range(len(all_data) // 2)\n",
    "# train_pair_indices, val_pair_indices, test_pair_indices = data.make_split_indices(\n",
    "#     mols, \"random\", (0.8, 0.1, 0.1)\n",
    "# )\n",
    "\n",
    "# train_indices, val_indices, test_indices = (\n",
    "#     [sum(([2 * i, 2 * i + 1] for i in indices), [])]\n",
    "#     for indices in (train_pair_indices[0], val_pair_indices[0], test_pair_indices[0])\n",
    "# )\n",
    "\n",
    "train_data, val_data, test_data = data.split_data_by_indices(\n",
    "    all_data, train_indices, val_indices, test_indices\n",
    ")"
   ]
  },
  {
   "cell_type": "markdown",
   "metadata": {},
   "source": [
    "### Get MoleculeDataset"
   ]
  },
  {
   "cell_type": "code",
   "execution_count": 84,
   "metadata": {},
   "outputs": [],
   "source": [
    "train_dset = data.MoleculeDataset(train_data[0], featurizer)\n",
    "val_dset = data.MoleculeDataset(val_data[0], featurizer)\n",
    "test_dset = data.MoleculeDataset(test_data[0], featurizer)"
   ]
  },
  {
   "cell_type": "markdown",
   "metadata": {},
   "source": [
    "### Get DataLoader"
   ]
  },
  {
   "cell_type": "code",
   "execution_count": 85,
   "metadata": {},
   "outputs": [],
   "source": [
    "train_loader = data.build_dataloader(train_dset, num_workers=num_workers)\n",
    "val_loader = data.build_dataloader(val_dset, num_workers=num_workers, shuffle=False)\n",
    "test_loader = data.build_dataloader(test_dset, num_workers=num_workers, shuffle=False)"
   ]
  },
  {
   "cell_type": "markdown",
   "metadata": {},
   "source": [
    "## Message-Passing Neural Network (MPNN)"
   ]
  },
  {
   "cell_type": "code",
   "execution_count": 86,
   "metadata": {},
   "outputs": [],
   "source": [
    "mpnn = models.MPNN(\n",
    "    message_passing=nn.BondMessagePassing(\n",
    "        d_v=featurizer.atom_fdim, d_e=featurizer.bond_fdim\n",
    "    ),\n",
    "    agg=nn.MeanAggregation(),\n",
    "    predictor=nn.BinaryClassificationFFN(\n",
    "        criterion=nn.BCELoss(),\n",
    "    ),\n",
    "    batch_norm=False,\n",
    "    metrics=(\n",
    "        nn.BinaryAUROC(),  # Area under the receiver operating characteristic curve\n",
    "        nn.BinaryMCCMetric(),  # Binary Matthews correlation coefficient\n",
    "        nn.BinaryF1Score(),  # The harmonic mean of precision and recall\n",
    "        nn.BinaryAccuracy(),  # Fraction of correct predictions\n",
    "    ),\n",
    ")"
   ]
  },
  {
   "cell_type": "markdown",
   "metadata": {},
   "source": [
    "## Training"
   ]
  },
  {
   "cell_type": "code",
   "execution_count": null,
   "metadata": {},
   "outputs": [],
   "source": [
    "checkpointing = pl.callbacks.ModelCheckpoint(\n",
    "    filename=\"best-{epoch}-{val_loss:.3f}\",\n",
    "    monitor=\"val_loss\",\n",
    "    mode=\"min\",\n",
    "    save_last=True,\n",
    ")\n",
    "\n",
    "early_stopping = pl.callbacks.EarlyStopping(monitor=\"val_loss\", patience=5)\n",
    "\n",
    "trainer = pl.Trainer(\n",
    "    logger=False,\n",
    "    enable_checkpointing=True,\n",
    "    enable_progress_bar=True,\n",
    "    accelerator=\"gpu\",\n",
    "    devices=1,\n",
    "    max_epochs=50,\n",
    "    callbacks=[checkpointing, early_stopping],\n",
    ")"
   ]
  },
  {
   "cell_type": "code",
   "execution_count": 88,
   "metadata": {},
   "outputs": [],
   "source": [
    "# torch.set_float32_matmul_precision(\"medium\")"
   ]
  },
  {
   "cell_type": "code",
   "execution_count": null,
   "metadata": {},
   "outputs": [],
   "source": [
    "checkpointing = pl.callbacks.ModelCheckpoint(\n",
    "    dirpath=f\"checkpoints/{case}/{mode}/run{run}\",\n",
    "    filename=\"best-{epoch}-{val_loss:.3f}\",\n",
    "    monitor=\"val_loss\",\n",
    "    mode=\"min\",\n",
    "    save_last=True,\n",
    ")\n",
    "\n",
    "early_stopping = pl.callbacks.EarlyStopping(monitor=\"val_loss\", patience=5)\n",
    "\n",
    "trainer = pl.Trainer(\n",
    "    logger=False,\n",
    "    enable_checkpointing=True,\n",
    "    enable_progress_bar=True,\n",
    "    accelerator=\"gpu\",\n",
    "    devices=1,\n",
    "    max_epochs=50,\n",
    "    callbacks=[checkpointing, early_stopping],\n",
    ")\n",
    "\n",
    "trainer.fit(mpnn, train_loader, val_loader)"
   ]
  },
  {
   "cell_type": "markdown",
   "metadata": {},
   "source": [
    "## Test results"
   ]
  },
  {
   "cell_type": "code",
   "execution_count": null,
   "metadata": {},
   "outputs": [],
   "source": [
    "results = trainer.test(mpnn, test_loader)"
   ]
  },
  {
   "cell_type": "code",
   "execution_count": null,
   "metadata": {},
   "outputs": [],
   "source": [
    "results"
   ]
  }
 ],
 "metadata": {
  "kernelspec": {
   "display_name": "base",
   "language": "python",
   "name": "python3"
  },
  "language_info": {
   "codemirror_mode": {
    "name": "ipython",
    "version": 3
   },
   "file_extension": ".py",
   "mimetype": "text/x-python",
   "name": "python",
   "nbconvert_exporter": "python",
   "pygments_lexer": "ipython3",
   "version": "3.12.8"
  }
 },
 "nbformat": 4,
 "nbformat_minor": 4
}
