{
 "cells": [
  {
   "cell_type": "markdown",
   "metadata": {},
   "source": [
    "# Predicting"
   ]
  },
  {
   "cell_type": "code",
   "execution_count": 23,
   "metadata": {},
   "outputs": [],
   "source": [
    "import pandas as pd\n",
    "import numpy as np\n",
    "import torch\n",
    "from lightning import pytorch as pl\n",
    "from pathlib import Path\n",
    "\n",
    "from chemprop import data, featurizers, models\n",
    "import chempropstereo"
   ]
  },
  {
   "cell_type": "code",
   "execution_count": 13,
   "metadata": {},
   "outputs": [],
   "source": [
    "tested_models = [\n",
    "    \"chemprop\",\n",
    "    \"chempropstereo_diverge\",\n",
    "    \"chempropstereo_converge\",\n",
    "]\n",
    "\n",
    "num_runs = 5"
   ]
  },
  {
   "cell_type": "code",
   "execution_count": 14,
   "metadata": {},
   "outputs": [],
   "source": [
    "mpnns = {}\n",
    "for model in tested_models:\n",
    "    mpnns[model] = []\n",
    "    for run in range(num_runs):\n",
    "        checkpoint_dir = Path.cwd() / \"checkpoints\" / model / \"V2\" / f\"run{run}\"\n",
    "        # checkpoint_path = next(checkpoint_dir.glob(\"best-epoch=*.ckpt\"))\n",
    "        checkpoint_path = checkpoint_dir / \"last.ckpt\"\n",
    "        mpnns[model].append(models.MPNN.load_from_checkpoint(checkpoint_path))"
   ]
  },
  {
   "cell_type": "code",
   "execution_count": 15,
   "metadata": {},
   "outputs": [],
   "source": [
    "featurizers = {\n",
    "    \"chemprop\": featurizers.SimpleMoleculeMolGraphFeaturizer(),\n",
    "    \"chempropstereo_diverge\": chempropstereo.featurizers.MoleculeStereoFeaturizer(\n",
    "        mode=\"V2\", divergent_bonds=True\n",
    "    ),\n",
    "    \"chempropstereo_converge\": chempropstereo.featurizers.MoleculeStereoFeaturizer(\n",
    "        mode=\"V2\", divergent_bonds=False\n",
    "    ),\n",
    "}"
   ]
  },
  {
   "cell_type": "markdown",
   "metadata": {},
   "source": [
    "## Load model"
   ]
  },
  {
   "cell_type": "code",
   "execution_count": null,
   "metadata": {},
   "outputs": [],
   "source": [
    "input_path = Path.cwd() / \"rs_classification_dataset.csv.gz\"\n",
    "df_input = pd.read_csv(input_path, compression=\"gzip\")\n",
    "df_input"
   ]
  },
  {
   "cell_type": "code",
   "execution_count": null,
   "metadata": {},
   "outputs": [],
   "source": [
    "78512 * 5"
   ]
  },
  {
   "cell_type": "markdown",
   "metadata": {},
   "source": [
    "## Load test smiles"
   ]
  },
  {
   "cell_type": "code",
   "execution_count": null,
   "metadata": {},
   "outputs": [],
   "source": [
    "df_test = df_input[df_input[\"split\"] == \"test\"]\n",
    "df_test"
   ]
  },
  {
   "cell_type": "markdown",
   "metadata": {},
   "source": [
    "## Get smiles"
   ]
  },
  {
   "cell_type": "code",
   "execution_count": null,
   "metadata": {},
   "outputs": [],
   "source": [
    "smis = df_test[\"SMILES\"]\n",
    "smis"
   ]
  },
  {
   "cell_type": "markdown",
   "metadata": {},
   "source": [
    "## Get molecule datapoints"
   ]
  },
  {
   "cell_type": "code",
   "execution_count": 19,
   "metadata": {},
   "outputs": [],
   "source": [
    "test_data = [data.MoleculeDatapoint.from_smi(smi) for smi in smis]"
   ]
  },
  {
   "cell_type": "markdown",
   "metadata": {},
   "source": [
    "## Get molecule dataset"
   ]
  },
  {
   "cell_type": "code",
   "execution_count": null,
   "metadata": {},
   "outputs": [],
   "source": [
    "predictions = {}\n",
    "for model in tested_models:\n",
    "    featurizer = featurizers[model]\n",
    "    test_dset = data.MoleculeDataset(test_data, featurizer=featurizer)\n",
    "    test_loader = data.build_dataloader(test_dset, shuffle=False)\n",
    "    predictions[model] = {}\n",
    "    with torch.inference_mode():\n",
    "        trainer = pl.Trainer(\n",
    "            logger=None,\n",
    "            enable_progress_bar=True,\n",
    "            accelerator=\"gpu\",\n",
    "            devices=1\n",
    "        )\n",
    "        for run in range(num_runs):\n",
    "            predictions[model][run] = trainer.predict(mpnns[model][run], test_loader)"
   ]
  },
  {
   "cell_type": "code",
   "execution_count": 21,
   "metadata": {},
   "outputs": [],
   "source": [
    "true_values = np.array(df_test[\"CIP_label\"].values == \"S\").astype(int)\n",
    "accuracy = {}\n",
    "for model in tested_models:\n",
    "    accuracies = []\n",
    "    for run in range(num_runs):\n",
    "        preds = np.round(np.concatenate(predictions[model][run]).ravel()).astype(int)\n",
    "        accuracies.append(sum(true_values == preds) / len(true_values))\n",
    "    accuracy[model] = {\"mean\": np.mean(accuracies), \"std\": np.std(accuracies)}"
   ]
  },
  {
   "cell_type": "code",
   "execution_count": null,
   "metadata": {},
   "outputs": [],
   "source": [
    "accuracy_df = pd.DataFrame(accuracy).T\n",
    "accuracy_df"
   ]
  }
 ],
 "metadata": {
  "kernelspec": {
   "display_name": "base",
   "language": "python",
   "name": "python3"
  },
  "language_info": {
   "codemirror_mode": {
    "name": "ipython",
    "version": 3
   },
   "file_extension": ".py",
   "mimetype": "text/x-python",
   "name": "python",
   "nbconvert_exporter": "python",
   "pygments_lexer": "ipython3",
   "version": "3.12.8"
  }
 },
 "nbformat": 4,
 "nbformat_minor": 4
}
